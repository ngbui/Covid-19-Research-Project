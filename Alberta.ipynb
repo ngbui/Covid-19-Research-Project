{
 "cells": [
  {
   "cell_type": "code",
   "execution_count": 26,
   "metadata": {},
   "outputs": [],
   "source": [
    "import numpy as np\n",
    "from sklearn import linear_model\n",
    "import pandas as pd\n",
    "from pandas import read_csv\n",
    "from sklearn.linear_model import Ridge\n",
    "import seaborn as sns\n",
    "from matplotlib import pyplot as plt\n",
    "from sklearn.model_selection import train_test_split\n",
    "from sklearn import svm\n",
    "from sklearn.model_selection import cross_val_score\n",
    "from sklearn.model_selection import KFold\n",
    "from sklearn.linear_model import LogisticRegression"
   ]
  },
  {
   "cell_type": "code",
   "execution_count": 2,
   "metadata": {},
   "outputs": [],
   "source": [
    "# read data + clean data\n",
    "alberta = read_csv('Alberta COVID Data - Alberta.csv')\n",
    "alberta['Case status'].factorize()\n",
    "alberta['Case status'] = pd.factorize(alberta['Case status'])[0]\n",
    "# where 0 means that the patient recovered and 1 for when the patient died\n",
    "\n",
    "# Convert gender to one hot\n",
    "data_a = pd.DataFrame(alberta[{'Gender': ['F', 'M',]}])\n",
    "gender_a = pd.get_dummies(data_a)\n",
    "age_a = alberta['Age (y)']\n",
    "# Merge relevant dataframes together\n",
    "merged_a = pd.concat([age_a, gender_a], axis = 1, sort = False)\n",
    "merged_a = pd.concat([merged_a, alberta['Case status']], axis = 1, sort = False)\n",
    "\n",
    "# split into train and test data\n",
    "X_train, X_test, y_train, y_test = train_test_split(merged_a[['Age (y)', 'Gender_F', 'Gender_M']], \n",
    "                                                    merged_a[['Case status']], test_size=0.4, random_state=0)"
   ]
  },
  {
   "cell_type": "markdown",
   "metadata": {},
   "source": [
    "# Ridge Regression"
   ]
  },
  {
   "cell_type": "code",
   "execution_count": 39,
   "metadata": {},
   "outputs": [
    {
     "data": {
      "text/plain": [
       "0.0543621295148895"
      ]
     },
     "execution_count": 39,
     "metadata": {},
     "output_type": "execute_result"
    }
   ],
   "source": [
    "clf_r = Ridge(alpha=1)\n",
    "clf_r.fit(X_train, y_train)    # fit model\n",
    "clf_r.score(X_test, y_test)    # accuracy score"
   ]
  },
  {
   "cell_type": "code",
   "execution_count": 41,
   "metadata": {},
   "outputs": [
    {
     "name": "stderr",
     "output_type": "stream",
     "text": [
      "C:\\Users\\Super\\anaconda3\\lib\\site-packages\\mlxtend\\plotting\\decision_regions.py:244: UserWarning: No contour levels were found within the data range.\n",
      "  ax.contour(xx, yy, Z, cset.levels,\n"
     ]
    },
    {
     "data": {
      "text/plain": [
       "Text(0.5, 1.0, 'Ridge Model')"
      ]
     },
     "execution_count": 41,
     "metadata": {},
     "output_type": "execute_result"
    },
    {
     "data": {
      "image/png": "[encoded data removed]",
      "text/plain": [
       "<Figure size 720x720 with 1 Axes>"
      ]
     },
     "metadata": {
      "needs_background": "light"
     },
     "output_type": "display_data"
    }
   ],
   "source": [
    "X = X_train.to_numpy(dtype = None)\n",
    "y = np.ravel(y_train.to_numpy(dtype = None))\n",
    "pca = PCA(n_components = 2)\n",
    "X = pca.fit_transform(X)\n",
    "\n",
    "gs = gridspec.GridSpec(10, 10)\n",
    "fig = plt.figure(figsize=(10, 10))\n",
    "\n",
    "clf_r.fit(X, y)\n",
    "fig = plot_decision_regions(X=X, y=y,\n",
    "                                clf=clf_r, legend=2)\n",
    "\n",
    "plt.xlabel(\"Age\", size=14)\n",
    "plt.ylabel(\"Gender\", size=14)\n",
    "plt.title('Ridge Model', size=16)"
   ]
  },
  {
   "cell_type": "markdown",
   "metadata": {},
   "source": [
    "# Lasso Regression"
   ]
  },
  {
   "cell_type": "code",
   "execution_count": 16,
   "metadata": {},
   "outputs": [
    {
     "data": {
      "text/plain": [
       "-5.183312389034356e-05"
      ]
     },
     "execution_count": 16,
     "metadata": {},
     "output_type": "execute_result"
    }
   ],
   "source": [
    "clf_l = linear_model.Lasso(alpha=1)\n",
    "clf_l.fit(X_train, y_train)\n",
    "clf_l.coef_     # array([ 0., -0.,  0.])\n",
    "clf_l.score(X_test, y_test)    # accuracy score - why is this negative?"
   ]
  },
  {
   "cell_type": "code",
   "execution_count": 42,
   "metadata": {},
   "outputs": [
    {
     "name": "stderr",
     "output_type": "stream",
     "text": [
      "C:\\Users\\Super\\anaconda3\\lib\\site-packages\\mlxtend\\plotting\\decision_regions.py:244: UserWarning: No contour levels were found within the data range.\n",
      "  ax.contour(xx, yy, Z, cset.levels,\n"
     ]
    },
    {
     "data": {
      "text/plain": [
       "Text(0.5, 1.0, 'Lasso Model')"
      ]
     },
     "execution_count": 42,
     "metadata": {},
     "output_type": "execute_result"
    },
    {
     "data": {
      "image/png": "[encoded data removed]",
      "text/plain": [
       "<Figure size 720x720 with 1 Axes>"
      ]
     },
     "metadata": {
      "needs_background": "light"
     },
     "output_type": "display_data"
    }
   ],
   "source": [
    "X = X_train.to_numpy(dtype = None)\n",
    "y = np.ravel(y_train.to_numpy(dtype = None))\n",
    "pca = PCA(n_components = 2)\n",
    "X = pca.fit_transform(X)\n",
    "\n",
    "gs = gridspec.GridSpec(10, 10)\n",
    "fig = plt.figure(figsize=(10, 10))\n",
    "\n",
    "clf_l.fit(X, y)\n",
    "fig = plot_decision_regions(X=X, y=y,\n",
    "                                clf=clf_l, legend=2)\n",
    "\n",
    "plt.xlabel(\"Age\", size=14)\n",
    "plt.ylabel(\"Gender\", size=14)\n",
    "plt.title('Lasso Model', size=16)"
   ]
  },
  {
   "cell_type": "markdown",
   "metadata": {},
   "source": [
    "# Logistic Regression"
   ]
  },
  {
   "cell_type": "code",
   "execution_count": 34,
   "metadata": {},
   "outputs": [
    {
     "data": {
      "text/plain": [
       "0.8732793255614832"
      ]
     },
     "execution_count": 34,
     "metadata": {},
     "output_type": "execute_result"
    }
   ],
   "source": [
    "clf_lg = LogisticRegression(C=1, class_weight = 'balanced')\n",
    "clf_lg.fit(X_train, np.ravel(y_train))\n",
    "clf_lg.predict(X_test)\n",
    "clf_lg.score(X_test, y_test)"
   ]
  },
  {
   "cell_type": "code",
   "execution_count": 35,
   "metadata": {},
   "outputs": [
    {
     "name": "stdout",
     "output_type": "stream",
     "text": [
      "0.893 accuracy with a standard deviation of 0.020\n"
     ]
    }
   ],
   "source": [
    "# cross validation using kfold\n",
    "kf = KFold(n_splits=5)\n",
    "scores = cross_val_score(clf_lg, merged_a[['Age (y)', 'Gender_F', 'Gender_M']], np.ravel(merged_a[['Case status']]), \n",
    "                         scoring='accuracy', cv=kf)\n",
    "print(\"%0.3f accuracy with a standard deviation of %0.3f\" % (scores.mean(), scores.std()))"
   ]
  },
  {
   "cell_type": "code",
   "execution_count": 43,
   "metadata": {},
   "outputs": [
    {
     "data": {
      "text/plain": [
       "Text(0.5, 1.0, 'Logistic Model')"
      ]
     },
     "execution_count": 43,
     "metadata": {},
     "output_type": "execute_result"
    },
    {
     "data": {
      "image/png": "[encoded data removed]",
      "text/plain": [
       "<Figure size 720x720 with 1 Axes>"
      ]
     },
     "metadata": {
      "needs_background": "light"
     },
     "output_type": "display_data"
    }
   ],
   "source": [
    "X = X_train.to_numpy(dtype = None)\n",
    "y = np.ravel(y_train.to_numpy(dtype = None))\n",
    "pca = PCA(n_components = 2)\n",
    "X = pca.fit_transform(X)\n",
    "\n",
    "gs = gridspec.GridSpec(10, 10)\n",
    "fig = plt.figure(figsize=(10, 10))\n",
    "\n",
    "clf_lg.fit(X, y)\n",
    "fig = plot_decision_regions(X=X, y=y,\n",
    "                                clf=clf_lg, legend=2)\n",
    "\n",
    "plt.xlabel(\"Age\", size=14)\n",
    "plt.ylabel(\"Gender\", size=14)\n",
    "plt.title('Logistic Model', size=16)"
   ]
  },
  {
   "cell_type": "markdown",
   "metadata": {},
   "source": [
    "# SVM Model"
   ]
  },
  {
   "cell_type": "code",
   "execution_count": 18,
   "metadata": {},
   "outputs": [
    {
     "data": {
      "text/plain": [
       "array([[ 1.00025554e-01,  2.91038305e-11, -3.29691829e-11]])"
      ]
     },
     "execution_count": 18,
     "metadata": {},
     "output_type": "execute_result"
    }
   ],
   "source": [
    "clf_s = svm.SVC(class_weight = 'balanced', kernel='linear')\n",
    "clf_s.fit(X_train, np.ravel(y_train))\n",
    "clf_s.coef_"
   ]
  },
  {
   "cell_type": "code",
   "execution_count": 20,
   "metadata": {},
   "outputs": [
    {
     "data": {
      "text/plain": [
       "{0: 26182, 1: 4184}"
      ]
     },
     "execution_count": 20,
     "metadata": {},
     "output_type": "execute_result"
    }
   ],
   "source": [
    "# predict using svm\n",
    "predict_a = clf_s.predict(X_test)\n",
    "unique, counts = np.unique(predict_a, return_counts=True)\n",
    "dict(zip(unique, counts))\n",
    "# 0 indicates the patient will survive and 1 indicates the patient will pass away"
   ]
  },
  {
   "cell_type": "code",
   "execution_count": 21,
   "metadata": {},
   "outputs": [
    {
     "data": {
      "text/plain": [
       "0.8732793255614832"
      ]
     },
     "execution_count": 21,
     "metadata": {},
     "output_type": "execute_result"
    }
   ],
   "source": [
    "clf_s.score(X_test, y_test)"
   ]
  },
  {
   "cell_type": "code",
   "execution_count": 23,
   "metadata": {},
   "outputs": [
    {
     "name": "stdout",
     "output_type": "stream",
     "text": [
      "0.920 accuracy with a standard deviation of 0.036\n"
     ]
    }
   ],
   "source": [
    "# cross validation using kfold\n",
    "kf = KFold(n_splits=5)\n",
    "scores = cross_val_score(clf_s, merged_a[['Age (y)', 'Gender_F', 'Gender_M']], np.ravel(merged_a[['Case status']]), \n",
    "                         scoring='accuracy', cv=kf)\n",
    "print(\"%0.3f accuracy with a standard deviation of %0.3f\" % (scores.mean(), scores.std()))"
   ]
  },
  {
   "cell_type": "code",
   "execution_count": 24,
   "metadata": {},
   "outputs": [
    {
     "data": {
      "image/png": "[encoded data removed]",
      "text/plain": [
       "<Figure size 432x288 with 1 Axes>"
      ]
     },
     "metadata": {},
     "output_type": "display_data"
    }
   ],
   "source": [
    "# graphing using method from tutorial\n",
    "\n",
    "X = X_train.iloc[:,:2].to_numpy()\n",
    "y = np.ravel(y_train)\n",
    "h = .02  # step size in the mesh\n",
    "C = 1.0  # SVM regularization parameter\n",
    "svc = svm.SVC(class_weight= \"balanced\", kernel='linear')\n",
    "svc.fit(X, np.ravel(y))\n",
    "#rbf_svc = svm.SVC(kernel='rbf', gamma=0.7, C=C).fit(X, y)\n",
    "#poly_svc = svm.SVC(kernel='poly', degree=3, C=C).fit(X, y)\n",
    "#lin_svc = svm.LinearSVC(C=C).fit(X, y)\n",
    "# create a mesh to plot in\n",
    "x_min, x_max = X[:, 0].min() - 1, X[:, 0].max() + 1\n",
    "y_min, y_max = X[:, 1].min() - 1, X[:, 1].max() + 1\n",
    "xx, yy = np.meshgrid(np.arange(x_min, x_max, h),\n",
    "                     np.arange(y_min, y_max, h))\n",
    "# Plot the decision boundary. For that, we will assign a color to each\n",
    "# point in the mesh [x_min, x_max]x[y_min, y_max].\n",
    "plt.subplot(2, 2, 1)\n",
    "plt.subplots_adjust(wspace=0.4, hspace=0.4)\n",
    "Z = svc.predict(np.c_[xx.ravel(), yy.ravel()])\n",
    "# Put the result into a color plot\n",
    "Z = Z.reshape(xx.shape)\n",
    "plt.contourf(xx, yy, Z, cmap=plt.cm.coolwarm, alpha=0.8)\n",
    "# Plot also the training points\n",
    "plt.scatter(X[:, 0], X[:, 1], c=y, cmap=plt.cm.coolwarm)\n",
    "plt.xlabel('X')\n",
    "plt.ylabel('y')\n",
    "plt.xlim(xx.min(), xx.max())\n",
    "plt.ylim(yy.min(), yy.max())\n",
    "plt.xticks(())\n",
    "plt.yticks(())\n",
    "plt.show()"
   ]
  },
  {
   "cell_type": "code",
   "execution_count": 25,
   "metadata": {},
   "outputs": [
    {
     "data": {
      "text/plain": [
       "Text(0.5, 1.0, 'SVM Model')"
      ]
     },
     "execution_count": 25,
     "metadata": {},
     "output_type": "execute_result"
    },
    {
     "data": {
      "image/png": "[encoded data removed]",
      "text/plain": [
       "<Figure size 720x720 with 1 Axes>"
      ]
     },
     "metadata": {
      "needs_background": "light"
     },
     "output_type": "display_data"
    }
   ],
   "source": [
    "# another graphing method\n",
    "\n",
    "from mlxtend.plotting import plot_decision_regions    # need to install first using pip in command prompt\n",
    "import matplotlib.gridspec as gridspec\n",
    "from sklearn.decomposition import PCA\n",
    "\n",
    "X = X_train.to_numpy(dtype = None)\n",
    "y = np.ravel(y_train.to_numpy(dtype = None))\n",
    "pca = PCA(n_components = 2)\n",
    "X = pca.fit_transform(X)\n",
    "\n",
    "gs = gridspec.GridSpec(10, 10)\n",
    "fig = plt.figure(figsize=(10, 10))\n",
    "\n",
    "clf_s.fit(X, y)\n",
    "fig = plot_decision_regions(X=X, y=y,\n",
    "                                clf=clf_s, legend=2)\n",
    "\n",
    "plt.xlabel(\"Age\", size=14)\n",
    "plt.ylabel(\"Gender\", size=14)\n",
    "plt.title('SVM Model', size=16)"
   ]
  },
  {
   "cell_type": "code",
   "execution_count": null,
   "metadata": {},
   "outputs": [],
   "source": []
  },
  {
   "cell_type": "code",
   "execution_count": null,
   "metadata": {},
   "outputs": [],
   "source": []
  },
  {
   "cell_type": "code",
   "execution_count": null,
   "metadata": {},
   "outputs": [],
   "source": []
  }
 ],
 "metadata": {
  "kernelspec": {
   "display_name": "Python 3",
   "language": "python",
   "name": "python3"
  },
  "language_info": {
   "codemirror_mode": {
    "name": "ipython",
    "version": 3
   },
   "file_extension": ".py",
   "mimetype": "text/x-python",
   "name": "python",
   "nbconvert_exporter": "python",
   "pygments_lexer": "ipython3",
   "version": "3.8.5"
  }
 },
 "nbformat": 4,
 "nbformat_minor": 4
}
